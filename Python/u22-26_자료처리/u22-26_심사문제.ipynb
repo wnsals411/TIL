{
  "nbformat": 4,
  "nbformat_minor": 0,
  "metadata": {
    "colab": {
      "name": "5회차_박준민.ipynb",
      "provenance": [],
      "collapsed_sections": []
    },
    "kernelspec": {
      "name": "python3",
      "display_name": "Python 3"
    },
    "language_info": {
      "name": "python"
    }
  },
  "cells": [
    {
      "cell_type": "markdown",
      "metadata": {
        "id": "k_orodig__BG"
      },
      "source": [
        "# **심사문제**"
      ]
    },
    {
      "cell_type": "markdown",
      "metadata": {
        "id": "NH_CaGHZAP3a"
      },
      "source": [
        "### u22\n",
        "\n",
        "표준 입력으로 정수 두 개가 입력됩니다(첫 번째 입력 값의 범위는 1`~`20, 두 번째 입력 값의 범위는 10`~`30이며 첫 번째 입력 값은 두 번째 입력 값보다 항상 작습니다). 첫 번째 정수부터 두 번째 정수까지를 지수로 하는 2의 거듭제곱 리스트를 출력하는 프로그램을 만드세요(input에서 안내 문자열은 출력하지 않아야 합니다). 단, 리스트의 두 번째 요소와 뒤에서 두 번째 요소는 삭제한 뒤 출력하세요. 출력 결과는 리스트 형태라야 합니다."
      ]
    },
    {
      "cell_type": "code",
      "metadata": {
        "colab": {
          "base_uri": "https://localhost:8080/"
        },
        "id": "TLmF0XGPAWrA",
        "outputId": "83489e9c-ea67-4ca1-8ba5-e80001bdd26b"
      },
      "source": [
        "a, b = map(int, input().split())\n",
        "list = []\n",
        "\n",
        "for i in range(a, b+1):\n",
        "    list.append(2**i)\n",
        "list.remove(list[1])\n",
        "list.remove(list[-2])\n",
        "print(list)\n",
        "\n",
        "del list ## 23번 문제 4번째 줄에서 에서 오류발생 (구글링)"
      ],
      "execution_count": 13,
      "outputs": [
        {
          "output_type": "stream",
          "text": [
            "10 20\n",
            "[1024, 4096, 8192, 16384, 32768, 65536, 131072, 262144, 1048576]\n"
          ],
          "name": "stdout"
        }
      ]
    },
    {
      "cell_type": "markdown",
      "metadata": {
        "id": "ePiooXDYBbYO"
      },
      "source": [
        "### u23\n",
        "\n",
        "표준 입력으로 2차원 리스트의 가로(col)와 세로(row)가 입력되고 그 다음 줄부터 리스트의 요소로 들어갈 문자가 입력됩니다. 이때 2차원 리스트 안에서 *는 지뢰이고 .은 지뢰가 아닙니다. 지뢰가 아닌 요소에는 인접한 지뢰의 개수를 출력하는 프로그램을 만드세요(input에서 안내 문자열은 출력하지 않아야 합니다).\n",
        "\n",
        "여러 줄을 입력 받으려면 다음과 같이 for 반복문에서 input을 호출한 뒤 append로 각 줄을 추가하면 됩니다(list 안에 문자열을 넣으면 문자열이 문자 리스트로 변환됩니다).\n",
        "\n",
        "matrix = []\n",
        "for i in range(row):\n",
        "    matrix.append(list(input()))\n",
        "\n",
        "이 문제는 지금까지 심사문제 중에서 가장 어렵습니다. 처음 풀어보는 경우 대략 두 시간은 걸립니다. 시간을 두고 천천히 고민해서 풀어보세요. 지금까지 학습한 내용을 모두 동원해야 풀 수 있으며 막힐 때는 지금까지 학습한 내용을 다시 복습하면서 힌트를 찾아보세요."
      ]
    },
    {
      "cell_type": "code",
      "metadata": {
        "colab": {
          "base_uri": "https://localhost:8080/"
        },
        "id": "mzBMcCh7LZ9D",
        "outputId": "f38d1d9d-5892-41d0-9cad-e83b2b0da4a8"
      },
      "source": [
        "col, row = map(int, input().split())\n",
        "matrix = []\n",
        "for a in range(row):\n",
        "    matrix.append(list(input()))\n",
        "    \n",
        "for i in range(row):\n",
        "  for k in range(col):\n",
        "    if matrix[i][k] == '.':\n",
        "      matrix[i][k] = 0\n",
        "      for y in range(i - 1, i + 2):      \n",
        "        for x in range(k - 1, k + 2):\n",
        "          if y < 0 or x < 0 or y >= row or x >= col:\n",
        "            continue\n",
        "          elif matrix[y][x] == '*':\n",
        "            matrix[i][k] += 1\n",
        "      print(matrix[i][k], end='')\n",
        "    else:\n",
        "      matrix[i][k] = '*'\n",
        "      print(matrix[i][k], end='')\n",
        "  print()"
      ],
      "execution_count": 14,
      "outputs": [
        {
          "output_type": "stream",
          "text": [
            "5 5\n",
            "..*..\n",
            "...*.\n",
            ".*...\n",
            ".***.\n",
            "*.*..\n",
            "01*21\n",
            "123*1\n",
            "2*532\n",
            "3***1\n",
            "*4*31\n"
          ],
          "name": "stdout"
        }
      ]
    },
    {
      "cell_type": "markdown",
      "metadata": {
        "id": "1ezPPpaKOdzm"
      },
      "source": [
        "### u24 (1)\n",
        "\n",
        "표준 입력으로 문자열이 입력됩니다. 입력된 문자열에서 'the'의 개수를 출력하는 프로그램을 만드세요(input에서 안내 문자열은 출력하지 않아야 합니다). 단, 모든 문자가 소문자인 'the'만 찾으면 되며 'them', 'there', 'their' 등은 포함하지 않아야 합니다."
      ]
    },
    {
      "cell_type": "code",
      "metadata": {
        "colab": {
          "base_uri": "https://localhost:8080/"
        },
        "id": "n30_Mr85O0gN",
        "outputId": "104608f2-1d1c-4772-ce62-0ad2d9a79843"
      },
      "source": [
        "words = []\n",
        "words = input().split()\n",
        "count = 0\n",
        "for i in range(len(words)):\n",
        "  if words[i].strip(',.') == 'the':\n",
        "    count += 1\n",
        "print(count)"
      ],
      "execution_count": 44,
      "outputs": [
        {
          "output_type": "stream",
          "text": [
            "the grown-ups' response, this time, was to advise me to lay aside my drawings of boa constrictors, whether from the inside or the outside, and devote myself instead to geography, history, arithmetic, and grammar. That is why, at the, age of six, I gave up what might have been a magnificent career as a painter. I had been disheartened by the failure of my Drawing Number One and my Drawing Number Two. Grown-ups never understand anything by themselves, and it is tiresome for children to be always and forever explaining things to the.\n",
            "6\n"
          ],
          "name": "stdout"
        }
      ]
    },
    {
      "cell_type": "markdown",
      "metadata": {
        "id": "sfg4o_e4TgqE"
      },
      "source": [
        "### u24 (2)\n",
        "\n",
        "표준 입력으로 물품 가격 여러 개가 문자열 한 줄로 입력되고, 각 가격은 ;(세미콜론)으로 구분되어 있습니다. 입력된 가격을 높은 가격순으로 출력하는 프로그램을 만드세요(input에서 안내 문자열은 출력하지 않아야 합니다). 이때 가격은 길이를 9로 만든 뒤 오른쪽으로 정렬하고 천단위로 ,(콤마)를 넣으세요."
      ]
    },
    {
      "cell_type": "code",
      "metadata": {
        "colab": {
          "base_uri": "https://localhost:8080/"
        },
        "id": "TmWNepICTjTM",
        "outputId": "41c4071c-f178-45cd-a9ef-2f721261b61b"
      },
      "source": [
        "cost = map(int, input().split(';')) \n",
        "prices = []\n",
        "\n",
        "prices.extend(cost)\n",
        "prices.sort(reverse=True)\n",
        "\n",
        "for i in prices:\n",
        "  print('%9s' % format(i, ','))"
      ],
      "execution_count": 73,
      "outputs": [
        {
          "output_type": "stream",
          "text": [
            "51900;83000;158000;367500;250000;59200;128500;1304000\n",
            "1,304,000\n",
            "  367,500\n",
            "  250,000\n",
            "  158,000\n",
            "  128,500\n",
            "   83,000\n",
            "   59,200\n",
            "   51,900\n"
          ],
          "name": "stdout"
        }
      ]
    },
    {
      "cell_type": "markdown",
      "metadata": {
        "id": "wemjAsV8YS1d"
      },
      "source": [
        "### u25\n",
        "\n",
        "표준 입력으로 문자열 여러 개와 숫자 여러 개가 두 줄로 입력되고, 첫 번째 줄은 키, 두 번째 줄은 값으로 하여 딕셔너리를 생성합니다. 다음 코드를 완성하여 딕셔너리에서 키가 'delta'인 키-값 쌍과 값이 30인 키-값 쌍을 삭제하도록 만드세요."
      ]
    },
    {
      "cell_type": "code",
      "metadata": {
        "colab": {
          "base_uri": "https://localhost:8080/"
        },
        "id": "RUYg-d9FYSSd",
        "outputId": "88f86c92-21c2-4b88-be2d-f1507dc813e3"
      },
      "source": [
        "keys = input().split() \n",
        "values = map(int, input().split())\n",
        "x = dict(zip(keys, values))\n",
        "\n",
        "del(x['delta'])\n",
        "for key,value in x.items():\n",
        "  if value == 30:\n",
        "      temp = key\n",
        "\n",
        "del(x[temp])\n",
        "\n",
        "print(x)"
      ],
      "execution_count": 79,
      "outputs": [
        {
          "output_type": "stream",
          "text": [
            "alpha bravo charlie delta echo foxtrot golf\n",
            "30 40 50 60 70 80 90\n",
            "{'bravo': 40, 'charlie': 50, 'echo': 70, 'foxtrot': 80, 'golf': 90}\n"
          ],
          "name": "stdout"
        }
      ]
    },
    {
      "cell_type": "markdown",
      "metadata": {
        "id": "UzlKHHvraDQC"
      },
      "source": [
        "### u26\n",
        "\n",
        "표준 입력으로 양의 정수 두 개가 입력됩니다. 다음 소스 코드를 완성하여 두 숫자의 공약수를 세트 형태로 구하도록 만드세요. 단, 최종 결과는 공약수의 합으로 판단합니다."
      ]
    },
    {
      "cell_type": "code",
      "metadata": {
        "colab": {
          "base_uri": "https://localhost:8080/"
        },
        "id": "_OsgnltKYw5i",
        "outputId": "ed7732a3-64b6-47c8-c709-715199c0cb36"
      },
      "source": [
        "num1, num2 = map(int, input().split())\n",
        "a = {i for i in range(1, num1 + 1) if num1 % i == 0}\n",
        "b = {i for i in range(1, num2 + 1) if num2 % i == 0}"
      ],
      "execution_count": 95,
      "outputs": [
        {
          "output_type": "stream",
          "text": [
            "100 200\n"
          ],
          "name": "stdout"
        }
      ]
    },
    {
      "cell_type": "code",
      "metadata": {
        "colab": {
          "base_uri": "https://localhost:8080/"
        },
        "id": "oNR7KkYWc8Bi",
        "outputId": "74a7497f-cd14-4681-dd7e-0094c02f7aae"
      },
      "source": [
        "divisor = a & b\n",
        " \n",
        "result = 0\n",
        "if type(divisor) == set:\n",
        "    result = sum(divisor)\n",
        " \n",
        "print(result)"
      ],
      "execution_count": 96,
      "outputs": [
        {
          "output_type": "stream",
          "text": [
            "217\n"
          ],
          "name": "stdout"
        }
      ]
    }
  ]
}